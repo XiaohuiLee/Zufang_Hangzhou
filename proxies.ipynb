{
 "cells": [
  {
   "cell_type": "code",
   "execution_count": 1,
   "metadata": {},
   "outputs": [],
   "source": [
    "# encoding:utf-8\n",
    "import requests\n",
    "import re\n",
    "import pandas as pd\n",
    "\n",
    "url = 'http://www.xicidaili.com/nn/1'\n",
    "headers = {\n",
    "    'User-Agent':'Mozilla/5.0 (Windows NT 10.0; Win64; x64) AppleWebKit/537.36 (KHTML, like Gecko) Chrome/62.0.3202.94 Safari/537.36'\n",
    "}"
   ]
  },
  {
   "cell_type": "code",
   "execution_count": 2,
   "metadata": {},
   "outputs": [],
   "source": [
    "page = requests.get(url, headers = headers).text\n",
    "# print(page.replace('\\n', ''))"
   ]
  },
  {
   "cell_type": "code",
   "execution_count": 3,
   "metadata": {},
   "outputs": [],
   "source": [
    "re_ip = r'country.*\\n.*<td>(\\d.*)</td>'\n",
    "re_port = r'<td>(\\d{2,5})</td>'\n",
    "re_head = r'<td>([A-Z]*)</td>'\n",
    "proxy_ip = re.findall(re_ip, page)\n",
    "proxy_port = re.findall(re_port, page)\n",
    "proxy_head = re.findall(re_head, page)\n",
    "# print('IP list is {}'.format(proxy_ip) + '\\n\\n'+ 'Port list is {}'.format(proxy_port))"
   ]
  },
  {
   "cell_type": "code",
   "execution_count": 4,
   "metadata": {},
   "outputs": [
    {
     "name": "stdout",
     "output_type": "stream",
     "text": [
      "100 100 100\n"
     ]
    }
   ],
   "source": [
    "print(len(proxy_ip), len(proxy_port), len(proxy_port))"
   ]
  },
  {
   "cell_type": "code",
   "execution_count": 5,
   "metadata": {},
   "outputs": [
    {
     "name": "stdout",
     "output_type": "stream",
     "text": [
      "    HEAD               IP  PORT\n",
      "0   HTTP     61.135.217.7    80\n",
      "1   HTTP   122.114.31.177   808\n",
      "2  HTTPS  119.190.216.247  8118\n",
      "3   HTTP  111.155.116.211  8123\n",
      "4   HTTP   139.224.135.94    80\n"
     ]
    }
   ],
   "source": [
    "import pandas as pd\n",
    "proxies = pd.DataFrame(columns=['HEAD', 'IP', 'PORT'])\n",
    "proxies.HEAD = proxy_head\n",
    "proxies.IP = proxy_ip\n",
    "proxies.PORT = proxy_port\n",
    "print(proxies.head())"
   ]
  },
  {
   "cell_type": "code",
   "execution_count": 6,
   "metadata": {},
   "outputs": [],
   "source": [
    "# write data to csv file\n",
    "with open('proxies.csv', 'a+', encoding='utf-8-sig') as csvfile:\n",
    "    proxies.to_csv(csvfile, index=False)\n",
    "    csvfile.close()"
   ]
  },
  {
   "cell_type": "code",
   "execution_count": 7,
   "metadata": {},
   "outputs": [],
   "source": [
    "# write data to database using sqlite3\n",
    "# import sqlite3\n",
    "# conn = sqlite3.connect('proxy.db')\n",
    "# cu = conn.cursor()\n",
    "# cu.execute('CREATE TABLE IF NOT EXISTS proxy (IP text, PROXY text )')\n",
    "# cu.execute(\"INSERT INTO proxy VALUES(?,?)\", proxies)\n",
    "# conn.commit()\n",
    "# result = cu.execute('SELECT * FROM proxy')\n",
    "# print(cu.fetchone())\n",
    "# cu.close()\n",
    "# conn.close()"
   ]
  },
  {
   "cell_type": "code",
   "execution_count": 8,
   "metadata": {},
   "outputs": [],
   "source": [
    "# write data to database using sqlite3\n",
    "import sqlite3\n",
    "conn = sqlite3.connect('proxy.db')\n",
    "cu = conn.cursor()\n",
    "cu.execute('DROP TABLE IF EXISTS proxy')\n",
    "proxies.to_sql('proxy', conn)"
   ]
  },
  {
   "cell_type": "code",
   "execution_count": 9,
   "metadata": {},
   "outputs": [
    {
     "name": "stdout",
     "output_type": "stream",
     "text": [
      "[(0, 'HTTP', '61.135.217.7', '80'), (1, 'HTTP', '122.114.31.177', '808'), (2, 'HTTPS', '119.190.216.247', '8118'), (3, 'HTTP', '111.155.116.211', '8123'), (4, 'HTTP', '139.224.135.94', '80'), (5, 'HTTPS', '49.71.81.173', '3128'), (6, 'HTTP', '49.71.81.131', '3128'), (7, 'HTTP', '116.22.53.147', '8118'), (8, 'HTTPS', '115.226.134.69', '30197'), (9, 'HTTPS', '117.62.113.57', '45994'), (10, 'HTTPS', '113.121.240.206', '45818'), (11, 'HTTPS', '110.209.250.202', '8118'), (12, 'HTTPS', '171.39.40.194', '8123'), (13, 'HTTP', '111.155.116.208', '8123'), (14, 'HTTPS', '222.182.53.151', '8118'), (15, 'HTTP', '110.73.53.65', '8123'), (16, 'HTTPS', '116.231.60.140', '8118'), (17, 'HTTP', '111.155.116.217', '8123'), (18, 'HTTP', '111.155.116.237', '8123'), (19, 'HTTP', '171.39.40.152', '8123'), (20, 'HTTP', '111.155.116.196', '8123'), (21, 'HTTPS', '111.155.116.232', '8123'), (22, 'HTTP', '58.216.202.149', '8118'), (23, 'HTTP', '115.46.78.9', '8123'), (24, 'HTTPS', '123.168.133.183', '8118'), (25, 'HTTP', '121.237.137.172', '3128'), (26, 'HTTPS', '111.155.116.227', '8123'), (27, 'HTTP', '111.155.116.216', '8123'), (28, 'HTTP', '121.31.154.146', '8123'), (29, 'HTTP', '110.73.32.142', '8123'), (30, 'HTTP', '111.155.116.226', '8123'), (31, 'HTTP', '111.155.116.247', '8123'), (32, 'HTTP', '115.46.65.122', '8123'), (33, 'HTTP', '112.124.39.77', '123'), (34, 'HTTP', '110.73.52.86', '8123'), (35, 'HTTPS', '117.66.134.233', '8118'), (36, 'HTTPS', '222.85.50.38', '808'), (37, 'HTTPS', '110.72.23.231', '8123'), (38, 'HTTPS', '125.40.47.18', '80'), (39, 'HTTPS', '60.167.135.11', '45515'), (40, 'HTTPS', '113.128.30.107', '31770'), (41, 'HTTP', '110.73.53.123', '8123'), (42, 'HTTPS', '114.214.162.136', '8118'), (43, 'HTTPS', '123.54.236.215', '34974'), (44, 'HTTP', '111.155.116.236', '8123'), (45, 'HTTPS', '111.74.233.78', '22463'), (46, 'HTTP', '110.88.31.5', '39451'), (47, 'HTTPS', '139.208.198.168', '8118'), (48, 'HTTP', '111.155.116.215', '8123'), (49, 'HTTP', '111.155.116.225', '8123'), (50, 'HTTP', '111.155.116.207', '8123'), (51, 'HTTP', '124.134.31.118', '8118'), (52, 'HTTPS', '180.156.94.7', '8118'), (53, 'HTTPS', '118.180.42.196', '8118'), (54, 'HTTPS', '113.105.203.163', '3128'), (55, 'HTTP', '121.31.103.198', '8123'), (56, 'HTTP', '110.72.35.95', '8123'), (57, 'HTTPS', '121.31.177.187', '8123'), (58, 'HTTP', '180.119.65.55', '3128'), (59, 'HTTPS', '110.73.3.226', '8123'), (60, 'HTTPS', '60.184.117.241', '26092'), (61, 'HTTPS', '49.79.70.112', '8118'), (62, 'HTTPS', '49.89.86.107', '37084'), (63, 'HTTP', '110.189.207.60', '30392'), (64, 'HTTP', '112.64.76.70', '8118'), (65, 'HTTP', '61.143.19.17', '20772'), (66, 'HTTPS', '221.229.18.85', '3128'), (67, 'HTTPS', '117.62.113.64', '25190'), (68, 'HTTPS', '27.40.143.81', '61234'), (69, 'HTTP', '110.73.3.117', '8123'), (70, 'HTTP', '121.31.145.100', '8123'), (71, 'HTTP', '183.51.122.45', '80'), (72, 'HTTP', '180.119.65.115', '3128'), (73, 'HTTPS', '115.46.101.237', '8123'), (74, 'HTTP', '139.208.195.96', '8118'), (75, 'HTTP', '221.8.170.46', '8118'), (76, 'HTTP', '110.73.4.255', '8123'), (77, 'HTTPS', '110.73.31.135', '8123'), (78, 'HTTP', '171.39.39.197', '8123'), (79, 'HTTP', '115.46.65.157', '8123'), (80, 'HTTPS', '27.40.145.115', '61234'), (81, 'HTTPS', '222.94.196.68', '3128'), (82, 'HTTPS', '182.42.244.58', '808'), (83, 'HTTPS', '118.254.144.45', '3128'), (84, 'HTTPS', '116.225.67.211', '8118'), (85, 'HTTP', '110.72.28.1', '8123'), (86, 'HTTP', '111.155.116.200', '8123'), (87, 'HTTPS', '110.72.25.107', '8123'), (88, 'HTTP', '121.31.147.115', '8123'), (89, 'HTTP', '110.73.5.75', '8123'), (90, 'HTTP', '118.114.77.47', '8080'), (91, 'HTTP', '110.73.43.219', '8123'), (92, 'HTTPS', '118.254.145.140', '3128'), (93, 'HTTP', '125.45.114.107', '8118'), (94, 'HTTPS', '124.79.45.197', '8118'), (95, 'HTTP', '111.155.124.73', '8123'), (96, 'HTTPS', '115.46.79.186', '8123'), (97, 'HTTP', '110.73.29.196', '8123'), (98, 'HTTPS', '106.46.2.144', '31476'), (99, 'HTTP', '115.46.76.201', '8123')]\n"
     ]
    }
   ],
   "source": [
    "result = cu.execute('SELECT * FROM proxy;')\n",
    "print(cu.fetchall())"
   ]
  },
  {
   "cell_type": "code",
   "execution_count": 14,
   "metadata": {},
   "outputs": [
    {
     "data": {
      "text/html": [
       "<div>\n",
       "<style scoped>\n",
       "    .dataframe tbody tr th:only-of-type {\n",
       "        vertical-align: middle;\n",
       "    }\n",
       "\n",
       "    .dataframe tbody tr th {\n",
       "        vertical-align: top;\n",
       "    }\n",
       "\n",
       "    .dataframe thead th {\n",
       "        text-align: right;\n",
       "    }\n",
       "</style>\n",
       "<table border=\"1\" class=\"dataframe\">\n",
       "  <thead>\n",
       "    <tr style=\"text-align: right;\">\n",
       "      <th></th>\n",
       "      <th>HEAD</th>\n",
       "      <th>IP</th>\n",
       "      <th>PORT</th>\n",
       "    </tr>\n",
       "  </thead>\n",
       "  <tbody>\n",
       "    <tr>\n",
       "      <th>0</th>\n",
       "      <td>HTTP</td>\n",
       "      <td>61.135.217.7</td>\n",
       "      <td>80</td>\n",
       "    </tr>\n",
       "    <tr>\n",
       "      <th>1</th>\n",
       "      <td>HTTP</td>\n",
       "      <td>122.114.31.177</td>\n",
       "      <td>808</td>\n",
       "    </tr>\n",
       "    <tr>\n",
       "      <th>2</th>\n",
       "      <td>HTTPS</td>\n",
       "      <td>119.190.216.247</td>\n",
       "      <td>8118</td>\n",
       "    </tr>\n",
       "    <tr>\n",
       "      <th>3</th>\n",
       "      <td>HTTP</td>\n",
       "      <td>111.155.116.211</td>\n",
       "      <td>8123</td>\n",
       "    </tr>\n",
       "    <tr>\n",
       "      <th>4</th>\n",
       "      <td>HTTP</td>\n",
       "      <td>139.224.135.94</td>\n",
       "      <td>80</td>\n",
       "    </tr>\n",
       "    <tr>\n",
       "      <th>5</th>\n",
       "      <td>HTTPS</td>\n",
       "      <td>49.71.81.173</td>\n",
       "      <td>3128</td>\n",
       "    </tr>\n",
       "    <tr>\n",
       "      <th>6</th>\n",
       "      <td>HTTP</td>\n",
       "      <td>49.71.81.131</td>\n",
       "      <td>3128</td>\n",
       "    </tr>\n",
       "    <tr>\n",
       "      <th>7</th>\n",
       "      <td>HTTP</td>\n",
       "      <td>116.22.53.147</td>\n",
       "      <td>8118</td>\n",
       "    </tr>\n",
       "    <tr>\n",
       "      <th>8</th>\n",
       "      <td>HTTPS</td>\n",
       "      <td>115.226.134.69</td>\n",
       "      <td>30197</td>\n",
       "    </tr>\n",
       "    <tr>\n",
       "      <th>9</th>\n",
       "      <td>HTTPS</td>\n",
       "      <td>117.62.113.57</td>\n",
       "      <td>45994</td>\n",
       "    </tr>\n",
       "  </tbody>\n",
       "</table>\n",
       "</div>"
      ],
      "text/plain": [
       "    HEAD               IP   PORT\n",
       "0   HTTP     61.135.217.7     80\n",
       "1   HTTP   122.114.31.177    808\n",
       "2  HTTPS  119.190.216.247   8118\n",
       "3   HTTP  111.155.116.211   8123\n",
       "4   HTTP   139.224.135.94     80\n",
       "5  HTTPS     49.71.81.173   3128\n",
       "6   HTTP     49.71.81.131   3128\n",
       "7   HTTP    116.22.53.147   8118\n",
       "8  HTTPS   115.226.134.69  30197\n",
       "9  HTTPS    117.62.113.57  45994"
      ]
     },
     "execution_count": 14,
     "metadata": {},
     "output_type": "execute_result"
    }
   ],
   "source": [
    "proxyDf = pd.read_sql(\"SELECT * FROM proxy;\",conn)\n",
    "del proxyDf['index']\n",
    "proxyDf.head(10)"
   ]
  }
 ],
 "metadata": {
  "kernelspec": {
   "display_name": "Python 3",
   "language": "python",
   "name": "python3"
  },
  "language_info": {
   "codemirror_mode": {
    "name": "ipython",
    "version": 3
   },
   "file_extension": ".py",
   "mimetype": "text/x-python",
   "name": "python",
   "nbconvert_exporter": "python",
   "pygments_lexer": "ipython3",
   "version": "3.6.3"
  }
 },
 "nbformat": 4,
 "nbformat_minor": 2
}
