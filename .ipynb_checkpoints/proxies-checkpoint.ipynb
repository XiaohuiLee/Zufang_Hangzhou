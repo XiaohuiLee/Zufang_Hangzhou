{
 "cells": [
  {
   "cell_type": "code",
   "execution_count": 64,
   "metadata": {},
   "outputs": [],
   "source": [
    "# encoding:utf-8\n",
    "import requests\n",
    "import re\n",
    "\n",
    "url = 'http://www.xicidaili.com/nn/1'\n",
    "headers = {\n",
    "    'User-Agent':'Mozilla/5.0 (Windows NT 10.0; Win64; x64) AppleWebKit/537.36 (KHTML, like Gecko) Chrome/62.0.3202.94 Safari/537.36'\n",
    "}"
   ]
  },
  {
   "cell_type": "code",
   "execution_count": 65,
   "metadata": {},
   "outputs": [],
   "source": [
    "page = requests.get(url, headers = headers).text"
   ]
  },
  {
   "cell_type": "code",
   "execution_count": 75,
   "metadata": {},
   "outputs": [],
   "source": [
    "re_ip = r'country.*\\n.*<td>(\\d.*)</td>'\n",
    "re_port = r'<td>(\\d{2,5})</td>'\n",
    "proxy_ip = re.findall(re_ip, page)\n",
    "proxy_port = re.findall(re_port, page)\n",
    "# print('IP list is {}'.format(proxy_ip) + '\\n\\n'+ 'Port list is {}'.format(proxy_port))"
   ]
  },
  {
   "cell_type": "code",
   "execution_count": 76,
   "metadata": {},
   "outputs": [
    {
     "name": "stdout",
     "output_type": "stream",
     "text": [
      "100 100\n"
     ]
    }
   ],
   "source": [
    "print(len(proxy_ip), len(proxy_port))"
   ]
  },
  {
   "cell_type": "code",
   "execution_count": 154,
   "metadata": {},
   "outputs": [
    {
     "name": "stdout",
     "output_type": "stream",
     "text": [
      "                IP PROXY\n",
      "0   122.225.17.123  8080\n",
      "1   122.114.31.177   808\n",
      "2     61.135.217.7    80\n",
      "3  122.235.235.195  8118\n",
      "4     218.2.70.124   808\n"
     ]
    }
   ],
   "source": [
    "import pandas as pd\n",
    "proxies = pd.DataFrame(columns=['IP', 'PROXY'])\n",
    "proxies.IP = proxy_ip\n",
    "proxies.PROXY = proxy_port\n",
    "print(proxies.head())"
   ]
  },
  {
   "cell_type": "code",
   "execution_count": 156,
   "metadata": {},
   "outputs": [],
   "source": [
    "# write data to csv file\n",
    "with open('proxies.csv', 'a+', encoding='utf-8-sig') as csvfile:\n",
    "    proxies.to_csv(csvfile, index=False)\n",
    "    csvfile.close()"
   ]
  },
  {
   "cell_type": "code",
   "execution_count": 147,
   "metadata": {},
   "outputs": [],
   "source": [
    "# write data to database using sqlite3\n",
    "import sqlite3\n",
    "conn = sqlite3.connect('proxy.db')\n",
    "cu = conn.cursor()\n",
    "\n",
    "cu.execute('CREATE TABLE IF NOT EXISTS proxy (IP text, PROXY text )')\n",
    "cu.execute(\"INSERT INTO proxy VALUES(?,?)\", proxies)\n",
    "conn.commit()\n",
    "result = cu.execute('SELECT * FROM proxy')\n",
    "print(cu.fetchone())\n",
    "cu.close()\n",
    "conn.close()"
   ]
  }
 ],
 "metadata": {
  "kernelspec": {
   "display_name": "Python 3",
   "language": "python",
   "name": "python3"
  },
  "language_info": {
   "codemirror_mode": {
    "name": "ipython",
    "version": 3
   },
   "file_extension": ".py",
   "mimetype": "text/x-python",
   "name": "python",
   "nbconvert_exporter": "python",
   "pygments_lexer": "ipython3",
   "version": "3.6.3"
  }
 },
 "nbformat": 4,
 "nbformat_minor": 2
}
